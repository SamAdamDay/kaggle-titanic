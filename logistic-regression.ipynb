{
 "cells": [
  {
   "cell_type": "markdown",
   "metadata": {},
   "source": [
    "# Logistic regression"
   ]
  },
  {
   "cell_type": "code",
   "execution_count": 1,
   "metadata": {},
   "outputs": [],
   "source": [
    "import numpy as np\n",
    "import pandas as pd\n",
    "from sklearn.pipeline import make_pipeline\n",
    "from sklearn.model_selection import GridSearchCV\n",
    "from sklearn.preprocessing import StandardScaler\n",
    "from sklearn.linear_model import LogisticRegression\n",
    "from matplotlib import pyplot as plt\n",
    "\n",
    "from utils import DataHandlerTitantic"
   ]
  },
  {
   "cell_type": "markdown",
   "metadata": {},
   "source": [
    "Load the data and split into train and validation sets."
   ]
  },
  {
   "cell_type": "code",
   "execution_count": 2,
   "metadata": {},
   "outputs": [
    {
     "data": {
      "text/html": [
       "<div>\n",
       "<style scoped>\n",
       "    .dataframe tbody tr th:only-of-type {\n",
       "        vertical-align: middle;\n",
       "    }\n",
       "\n",
       "    .dataframe tbody tr th {\n",
       "        vertical-align: top;\n",
       "    }\n",
       "\n",
       "    .dataframe thead th {\n",
       "        text-align: right;\n",
       "    }\n",
       "</style>\n",
       "<table border=\"1\" class=\"dataframe\">\n",
       "  <thead>\n",
       "    <tr style=\"text-align: right;\">\n",
       "      <th></th>\n",
       "      <th>PassengerId</th>\n",
       "      <th>Survived</th>\n",
       "      <th>Pclass</th>\n",
       "      <th>Name</th>\n",
       "      <th>Sex</th>\n",
       "      <th>Age</th>\n",
       "      <th>SibSp</th>\n",
       "      <th>Parch</th>\n",
       "      <th>Ticket</th>\n",
       "      <th>Fare</th>\n",
       "      <th>Cabin</th>\n",
       "      <th>Embarked</th>\n",
       "    </tr>\n",
       "  </thead>\n",
       "  <tbody>\n",
       "    <tr>\n",
       "      <th>0</th>\n",
       "      <td>1</td>\n",
       "      <td>0</td>\n",
       "      <td>3</td>\n",
       "      <td>Braund, Mr. Owen Harris</td>\n",
       "      <td>male</td>\n",
       "      <td>22.0</td>\n",
       "      <td>1</td>\n",
       "      <td>0</td>\n",
       "      <td>A/5 21171</td>\n",
       "      <td>7.2500</td>\n",
       "      <td>NaN</td>\n",
       "      <td>S</td>\n",
       "    </tr>\n",
       "    <tr>\n",
       "      <th>1</th>\n",
       "      <td>2</td>\n",
       "      <td>1</td>\n",
       "      <td>1</td>\n",
       "      <td>Cumings, Mrs. John Bradley (Florence Briggs Th...</td>\n",
       "      <td>female</td>\n",
       "      <td>38.0</td>\n",
       "      <td>1</td>\n",
       "      <td>0</td>\n",
       "      <td>PC 17599</td>\n",
       "      <td>71.2833</td>\n",
       "      <td>C85</td>\n",
       "      <td>C</td>\n",
       "    </tr>\n",
       "    <tr>\n",
       "      <th>2</th>\n",
       "      <td>3</td>\n",
       "      <td>1</td>\n",
       "      <td>3</td>\n",
       "      <td>Heikkinen, Miss. Laina</td>\n",
       "      <td>female</td>\n",
       "      <td>26.0</td>\n",
       "      <td>0</td>\n",
       "      <td>0</td>\n",
       "      <td>STON/O2. 3101282</td>\n",
       "      <td>7.9250</td>\n",
       "      <td>NaN</td>\n",
       "      <td>S</td>\n",
       "    </tr>\n",
       "    <tr>\n",
       "      <th>3</th>\n",
       "      <td>4</td>\n",
       "      <td>1</td>\n",
       "      <td>1</td>\n",
       "      <td>Futrelle, Mrs. Jacques Heath (Lily May Peel)</td>\n",
       "      <td>female</td>\n",
       "      <td>35.0</td>\n",
       "      <td>1</td>\n",
       "      <td>0</td>\n",
       "      <td>113803</td>\n",
       "      <td>53.1000</td>\n",
       "      <td>C123</td>\n",
       "      <td>S</td>\n",
       "    </tr>\n",
       "    <tr>\n",
       "      <th>4</th>\n",
       "      <td>5</td>\n",
       "      <td>0</td>\n",
       "      <td>3</td>\n",
       "      <td>Allen, Mr. William Henry</td>\n",
       "      <td>male</td>\n",
       "      <td>35.0</td>\n",
       "      <td>0</td>\n",
       "      <td>0</td>\n",
       "      <td>373450</td>\n",
       "      <td>8.0500</td>\n",
       "      <td>NaN</td>\n",
       "      <td>S</td>\n",
       "    </tr>\n",
       "  </tbody>\n",
       "</table>\n",
       "</div>"
      ],
      "text/plain": [
       "   PassengerId  Survived  Pclass  \\\n",
       "0            1         0       3   \n",
       "1            2         1       1   \n",
       "2            3         1       3   \n",
       "3            4         1       1   \n",
       "4            5         0       3   \n",
       "\n",
       "                                                Name     Sex   Age  SibSp  \\\n",
       "0                            Braund, Mr. Owen Harris    male  22.0      1   \n",
       "1  Cumings, Mrs. John Bradley (Florence Briggs Th...  female  38.0      1   \n",
       "2                             Heikkinen, Miss. Laina  female  26.0      0   \n",
       "3       Futrelle, Mrs. Jacques Heath (Lily May Peel)  female  35.0      1   \n",
       "4                           Allen, Mr. William Henry    male  35.0      0   \n",
       "\n",
       "   Parch            Ticket     Fare Cabin Embarked  \n",
       "0      0         A/5 21171   7.2500   NaN        S  \n",
       "1      0          PC 17599  71.2833   C85        C  \n",
       "2      0  STON/O2. 3101282   7.9250   NaN        S  \n",
       "3      0            113803  53.1000  C123        S  \n",
       "4      0            373450   8.0500   NaN        S  "
      ]
     },
     "execution_count": 2,
     "metadata": {},
     "output_type": "execute_result"
    }
   ],
   "source": [
    "dh = DataHandlerTitantic(34545234)\n",
    "dh.load_data(\"data/train.csv\", \"data/test.csv\")\n",
    "dh.shuffle_split(0.8)\n",
    "dh.full_train.head()"
   ]
  },
  {
   "cell_type": "markdown",
   "metadata": {},
   "source": [
    "## Gender and socio-economic status"
   ]
  },
  {
   "cell_type": "markdown",
   "metadata": {},
   "source": [
    "Convert the 'Sex' column into an integer one, and replace 'Pclass' with a categorical one."
   ]
  },
  {
   "cell_type": "code",
   "execution_count": 3,
   "metadata": {},
   "outputs": [
    {
     "data": {
      "text/html": [
       "<div>\n",
       "<style scoped>\n",
       "    .dataframe tbody tr th:only-of-type {\n",
       "        vertical-align: middle;\n",
       "    }\n",
       "\n",
       "    .dataframe tbody tr th {\n",
       "        vertical-align: top;\n",
       "    }\n",
       "\n",
       "    .dataframe thead th {\n",
       "        text-align: right;\n",
       "    }\n",
       "</style>\n",
       "<table border=\"1\" class=\"dataframe\">\n",
       "  <thead>\n",
       "    <tr style=\"text-align: right;\">\n",
       "      <th></th>\n",
       "      <th>PassengerId</th>\n",
       "      <th>Survived</th>\n",
       "      <th>Name</th>\n",
       "      <th>IsFemale</th>\n",
       "      <th>Age</th>\n",
       "      <th>SibSp</th>\n",
       "      <th>Parch</th>\n",
       "      <th>Ticket</th>\n",
       "      <th>Fare</th>\n",
       "      <th>Cabin</th>\n",
       "      <th>Embarked</th>\n",
       "      <th>Pclass_1</th>\n",
       "      <th>Pclass_2</th>\n",
       "      <th>Pclass_3</th>\n",
       "    </tr>\n",
       "  </thead>\n",
       "  <tbody>\n",
       "    <tr>\n",
       "      <th>763</th>\n",
       "      <td>764</td>\n",
       "      <td>1</td>\n",
       "      <td>Carter, Mrs. William Ernest (Lucile Polk)</td>\n",
       "      <td>1</td>\n",
       "      <td>36.0</td>\n",
       "      <td>1</td>\n",
       "      <td>2</td>\n",
       "      <td>113760</td>\n",
       "      <td>120.000</td>\n",
       "      <td>B96 B98</td>\n",
       "      <td>S</td>\n",
       "      <td>1</td>\n",
       "      <td>0</td>\n",
       "      <td>0</td>\n",
       "    </tr>\n",
       "    <tr>\n",
       "      <th>632</th>\n",
       "      <td>633</td>\n",
       "      <td>1</td>\n",
       "      <td>Stahelin-Maeglin, Dr. Max</td>\n",
       "      <td>0</td>\n",
       "      <td>32.0</td>\n",
       "      <td>0</td>\n",
       "      <td>0</td>\n",
       "      <td>13214</td>\n",
       "      <td>30.500</td>\n",
       "      <td>B50</td>\n",
       "      <td>C</td>\n",
       "      <td>1</td>\n",
       "      <td>0</td>\n",
       "      <td>0</td>\n",
       "    </tr>\n",
       "    <tr>\n",
       "      <th>237</th>\n",
       "      <td>238</td>\n",
       "      <td>1</td>\n",
       "      <td>Collyer, Miss. Marjorie \"Lottie\"</td>\n",
       "      <td>1</td>\n",
       "      <td>8.0</td>\n",
       "      <td>0</td>\n",
       "      <td>2</td>\n",
       "      <td>C.A. 31921</td>\n",
       "      <td>26.250</td>\n",
       "      <td>NaN</td>\n",
       "      <td>S</td>\n",
       "      <td>0</td>\n",
       "      <td>1</td>\n",
       "      <td>0</td>\n",
       "    </tr>\n",
       "    <tr>\n",
       "      <th>491</th>\n",
       "      <td>492</td>\n",
       "      <td>0</td>\n",
       "      <td>Windelov, Mr. Einar</td>\n",
       "      <td>0</td>\n",
       "      <td>21.0</td>\n",
       "      <td>0</td>\n",
       "      <td>0</td>\n",
       "      <td>SOTON/OQ 3101317</td>\n",
       "      <td>7.250</td>\n",
       "      <td>NaN</td>\n",
       "      <td>S</td>\n",
       "      <td>0</td>\n",
       "      <td>0</td>\n",
       "      <td>1</td>\n",
       "    </tr>\n",
       "    <tr>\n",
       "      <th>590</th>\n",
       "      <td>591</td>\n",
       "      <td>0</td>\n",
       "      <td>Rintamaki, Mr. Matti</td>\n",
       "      <td>0</td>\n",
       "      <td>35.0</td>\n",
       "      <td>0</td>\n",
       "      <td>0</td>\n",
       "      <td>STON/O 2. 3101273</td>\n",
       "      <td>7.125</td>\n",
       "      <td>NaN</td>\n",
       "      <td>S</td>\n",
       "      <td>0</td>\n",
       "      <td>0</td>\n",
       "      <td>1</td>\n",
       "    </tr>\n",
       "  </tbody>\n",
       "</table>\n",
       "</div>"
      ],
      "text/plain": [
       "     PassengerId  Survived                                       Name  \\\n",
       "763          764         1  Carter, Mrs. William Ernest (Lucile Polk)   \n",
       "632          633         1                  Stahelin-Maeglin, Dr. Max   \n",
       "237          238         1           Collyer, Miss. Marjorie \"Lottie\"   \n",
       "491          492         0                        Windelov, Mr. Einar   \n",
       "590          591         0                       Rintamaki, Mr. Matti   \n",
       "\n",
       "     IsFemale   Age  SibSp  Parch             Ticket     Fare    Cabin  \\\n",
       "763         1  36.0      1      2             113760  120.000  B96 B98   \n",
       "632         0  32.0      0      0              13214   30.500      B50   \n",
       "237         1   8.0      0      2         C.A. 31921   26.250      NaN   \n",
       "491         0  21.0      0      0   SOTON/OQ 3101317    7.250      NaN   \n",
       "590         0  35.0      0      0  STON/O 2. 3101273    7.125      NaN   \n",
       "\n",
       "    Embarked  Pclass_1  Pclass_2  Pclass_3  \n",
       "763        S         1         0         0  \n",
       "632        C         1         0         0  \n",
       "237        S         0         1         0  \n",
       "491        S         0         0         1  \n",
       "590        S         0         0         1  "
      ]
     },
     "execution_count": 3,
     "metadata": {},
     "output_type": "execute_result"
    }
   ],
   "source": [
    "dh1 = dh.to_is_female().make_dummies([\"Pclass\"])\n",
    "dh1.train.head()"
   ]
  },
  {
   "cell_type": "code",
   "execution_count": 26,
   "metadata": {},
   "outputs": [],
   "source": [
    "features1 = [\"IsFemale\", \"Pclass_1\", \"Pclass_2\", \"Pclass_3\"]\n",
    "X = dh1.train[features1]\n",
    "y = dh1.train[\"Survived\"]"
   ]
  },
  {
   "cell_type": "markdown",
   "metadata": {},
   "source": [
    "Specify the model. We normalise the data and then apply logistic regression."
   ]
  },
  {
   "cell_type": "code",
   "execution_count": 5,
   "metadata": {},
   "outputs": [
    {
     "name": "stdout",
     "output_type": "stream",
     "text": [
      "Pipeline(steps=[('standardscaler', StandardScaler()),\n",
      "                ('logisticregression', LogisticRegression(solver='liblinear'))])\n"
     ]
    }
   ],
   "source": [
    "model1 = make_pipeline(StandardScaler(), \n",
    "                       LogisticRegression(solver=\"liblinear\"))\n",
    "print(model1)"
   ]
  },
  {
   "cell_type": "markdown",
   "metadata": {},
   "source": [
    "Use cross validation to pick the best value for the `C` parameter."
   ]
  },
  {
   "cell_type": "code",
   "execution_count": 6,
   "metadata": {},
   "outputs": [
    {
     "name": "stdout",
     "output_type": "stream",
     "text": [
      "Best parameters:\n",
      "\n",
      "{'logisticregression__C': 0.1}\n",
      "\n"
     ]
    },
    {
     "data": {
      "text/html": [
       "<div>\n",
       "<style scoped>\n",
       "    .dataframe tbody tr th:only-of-type {\n",
       "        vertical-align: middle;\n",
       "    }\n",
       "\n",
       "    .dataframe tbody tr th {\n",
       "        vertical-align: top;\n",
       "    }\n",
       "\n",
       "    .dataframe thead th {\n",
       "        text-align: right;\n",
       "    }\n",
       "</style>\n",
       "<table border=\"1\" class=\"dataframe\">\n",
       "  <thead>\n",
       "    <tr style=\"text-align: right;\">\n",
       "      <th></th>\n",
       "      <th>mean_fit_time</th>\n",
       "      <th>std_fit_time</th>\n",
       "      <th>mean_score_time</th>\n",
       "      <th>std_score_time</th>\n",
       "      <th>param_logisticregression__C</th>\n",
       "      <th>params</th>\n",
       "      <th>split0_test_score</th>\n",
       "      <th>split1_test_score</th>\n",
       "      <th>split2_test_score</th>\n",
       "      <th>split3_test_score</th>\n",
       "      <th>split4_test_score</th>\n",
       "      <th>mean_test_score</th>\n",
       "      <th>std_test_score</th>\n",
       "      <th>rank_test_score</th>\n",
       "    </tr>\n",
       "  </thead>\n",
       "  <tbody>\n",
       "    <tr>\n",
       "      <th>0</th>\n",
       "      <td>0.005022</td>\n",
       "      <td>0.000613</td>\n",
       "      <td>0.001904</td>\n",
       "      <td>0.000108</td>\n",
       "      <td>0.00001</td>\n",
       "      <td>{'logisticregression__C': 1e-05}</td>\n",
       "      <td>0.720280</td>\n",
       "      <td>0.741259</td>\n",
       "      <td>0.802817</td>\n",
       "      <td>0.802817</td>\n",
       "      <td>0.718310</td>\n",
       "      <td>0.757096</td>\n",
       "      <td>0.038187</td>\n",
       "      <td>8</td>\n",
       "    </tr>\n",
       "    <tr>\n",
       "      <th>1</th>\n",
       "      <td>0.004475</td>\n",
       "      <td>0.000259</td>\n",
       "      <td>0.001916</td>\n",
       "      <td>0.000102</td>\n",
       "      <td>0.0001</td>\n",
       "      <td>{'logisticregression__C': 0.0001}</td>\n",
       "      <td>0.720280</td>\n",
       "      <td>0.741259</td>\n",
       "      <td>0.802817</td>\n",
       "      <td>0.802817</td>\n",
       "      <td>0.718310</td>\n",
       "      <td>0.757096</td>\n",
       "      <td>0.038187</td>\n",
       "      <td>8</td>\n",
       "    </tr>\n",
       "    <tr>\n",
       "      <th>2</th>\n",
       "      <td>0.004363</td>\n",
       "      <td>0.000041</td>\n",
       "      <td>0.001780</td>\n",
       "      <td>0.000013</td>\n",
       "      <td>0.001</td>\n",
       "      <td>{'logisticregression__C': 0.001}</td>\n",
       "      <td>0.720280</td>\n",
       "      <td>0.741259</td>\n",
       "      <td>0.802817</td>\n",
       "      <td>0.802817</td>\n",
       "      <td>0.725352</td>\n",
       "      <td>0.758505</td>\n",
       "      <td>0.036837</td>\n",
       "      <td>7</td>\n",
       "    </tr>\n",
       "    <tr>\n",
       "      <th>3</th>\n",
       "      <td>0.004298</td>\n",
       "      <td>0.000018</td>\n",
       "      <td>0.001797</td>\n",
       "      <td>0.000040</td>\n",
       "      <td>0.01</td>\n",
       "      <td>{'logisticregression__C': 0.01}</td>\n",
       "      <td>0.720280</td>\n",
       "      <td>0.769231</td>\n",
       "      <td>0.753521</td>\n",
       "      <td>0.809859</td>\n",
       "      <td>0.725352</td>\n",
       "      <td>0.755649</td>\n",
       "      <td>0.032547</td>\n",
       "      <td>10</td>\n",
       "    </tr>\n",
       "    <tr>\n",
       "      <th>4</th>\n",
       "      <td>0.004390</td>\n",
       "      <td>0.000071</td>\n",
       "      <td>0.001763</td>\n",
       "      <td>0.000012</td>\n",
       "      <td>0.1</td>\n",
       "      <td>{'logisticregression__C': 0.1}</td>\n",
       "      <td>0.776224</td>\n",
       "      <td>0.769231</td>\n",
       "      <td>0.753521</td>\n",
       "      <td>0.809859</td>\n",
       "      <td>0.725352</td>\n",
       "      <td>0.766837</td>\n",
       "      <td>0.027724</td>\n",
       "      <td>1</td>\n",
       "    </tr>\n",
       "    <tr>\n",
       "      <th>5</th>\n",
       "      <td>0.004435</td>\n",
       "      <td>0.000110</td>\n",
       "      <td>0.001791</td>\n",
       "      <td>0.000039</td>\n",
       "      <td>1.0</td>\n",
       "      <td>{'logisticregression__C': 1.0}</td>\n",
       "      <td>0.776224</td>\n",
       "      <td>0.769231</td>\n",
       "      <td>0.753521</td>\n",
       "      <td>0.809859</td>\n",
       "      <td>0.725352</td>\n",
       "      <td>0.766837</td>\n",
       "      <td>0.027724</td>\n",
       "      <td>1</td>\n",
       "    </tr>\n",
       "    <tr>\n",
       "      <th>6</th>\n",
       "      <td>0.004337</td>\n",
       "      <td>0.000029</td>\n",
       "      <td>0.001756</td>\n",
       "      <td>0.000022</td>\n",
       "      <td>10.0</td>\n",
       "      <td>{'logisticregression__C': 10.0}</td>\n",
       "      <td>0.776224</td>\n",
       "      <td>0.769231</td>\n",
       "      <td>0.753521</td>\n",
       "      <td>0.809859</td>\n",
       "      <td>0.725352</td>\n",
       "      <td>0.766837</td>\n",
       "      <td>0.027724</td>\n",
       "      <td>1</td>\n",
       "    </tr>\n",
       "    <tr>\n",
       "      <th>7</th>\n",
       "      <td>0.004340</td>\n",
       "      <td>0.000044</td>\n",
       "      <td>0.001765</td>\n",
       "      <td>0.000047</td>\n",
       "      <td>100.0</td>\n",
       "      <td>{'logisticregression__C': 100.0}</td>\n",
       "      <td>0.776224</td>\n",
       "      <td>0.769231</td>\n",
       "      <td>0.753521</td>\n",
       "      <td>0.809859</td>\n",
       "      <td>0.725352</td>\n",
       "      <td>0.766837</td>\n",
       "      <td>0.027724</td>\n",
       "      <td>1</td>\n",
       "    </tr>\n",
       "    <tr>\n",
       "      <th>8</th>\n",
       "      <td>0.004529</td>\n",
       "      <td>0.000260</td>\n",
       "      <td>0.001995</td>\n",
       "      <td>0.000493</td>\n",
       "      <td>1000.0</td>\n",
       "      <td>{'logisticregression__C': 1000.0}</td>\n",
       "      <td>0.776224</td>\n",
       "      <td>0.769231</td>\n",
       "      <td>0.753521</td>\n",
       "      <td>0.809859</td>\n",
       "      <td>0.725352</td>\n",
       "      <td>0.766837</td>\n",
       "      <td>0.027724</td>\n",
       "      <td>1</td>\n",
       "    </tr>\n",
       "    <tr>\n",
       "      <th>9</th>\n",
       "      <td>0.005355</td>\n",
       "      <td>0.000929</td>\n",
       "      <td>0.002141</td>\n",
       "      <td>0.000369</td>\n",
       "      <td>10000.0</td>\n",
       "      <td>{'logisticregression__C': 10000.0}</td>\n",
       "      <td>0.776224</td>\n",
       "      <td>0.769231</td>\n",
       "      <td>0.753521</td>\n",
       "      <td>0.809859</td>\n",
       "      <td>0.725352</td>\n",
       "      <td>0.766837</td>\n",
       "      <td>0.027724</td>\n",
       "      <td>1</td>\n",
       "    </tr>\n",
       "  </tbody>\n",
       "</table>\n",
       "</div>"
      ],
      "text/plain": [
       "   mean_fit_time  std_fit_time  mean_score_time  std_score_time  \\\n",
       "0       0.005022      0.000613         0.001904        0.000108   \n",
       "1       0.004475      0.000259         0.001916        0.000102   \n",
       "2       0.004363      0.000041         0.001780        0.000013   \n",
       "3       0.004298      0.000018         0.001797        0.000040   \n",
       "4       0.004390      0.000071         0.001763        0.000012   \n",
       "5       0.004435      0.000110         0.001791        0.000039   \n",
       "6       0.004337      0.000029         0.001756        0.000022   \n",
       "7       0.004340      0.000044         0.001765        0.000047   \n",
       "8       0.004529      0.000260         0.001995        0.000493   \n",
       "9       0.005355      0.000929         0.002141        0.000369   \n",
       "\n",
       "  param_logisticregression__C                              params  \\\n",
       "0                     0.00001    {'logisticregression__C': 1e-05}   \n",
       "1                      0.0001   {'logisticregression__C': 0.0001}   \n",
       "2                       0.001    {'logisticregression__C': 0.001}   \n",
       "3                        0.01     {'logisticregression__C': 0.01}   \n",
       "4                         0.1      {'logisticregression__C': 0.1}   \n",
       "5                         1.0      {'logisticregression__C': 1.0}   \n",
       "6                        10.0     {'logisticregression__C': 10.0}   \n",
       "7                       100.0    {'logisticregression__C': 100.0}   \n",
       "8                      1000.0   {'logisticregression__C': 1000.0}   \n",
       "9                     10000.0  {'logisticregression__C': 10000.0}   \n",
       "\n",
       "   split0_test_score  split1_test_score  split2_test_score  split3_test_score  \\\n",
       "0           0.720280           0.741259           0.802817           0.802817   \n",
       "1           0.720280           0.741259           0.802817           0.802817   \n",
       "2           0.720280           0.741259           0.802817           0.802817   \n",
       "3           0.720280           0.769231           0.753521           0.809859   \n",
       "4           0.776224           0.769231           0.753521           0.809859   \n",
       "5           0.776224           0.769231           0.753521           0.809859   \n",
       "6           0.776224           0.769231           0.753521           0.809859   \n",
       "7           0.776224           0.769231           0.753521           0.809859   \n",
       "8           0.776224           0.769231           0.753521           0.809859   \n",
       "9           0.776224           0.769231           0.753521           0.809859   \n",
       "\n",
       "   split4_test_score  mean_test_score  std_test_score  rank_test_score  \n",
       "0           0.718310         0.757096        0.038187                8  \n",
       "1           0.718310         0.757096        0.038187                8  \n",
       "2           0.725352         0.758505        0.036837                7  \n",
       "3           0.725352         0.755649        0.032547               10  \n",
       "4           0.725352         0.766837        0.027724                1  \n",
       "5           0.725352         0.766837        0.027724                1  \n",
       "6           0.725352         0.766837        0.027724                1  \n",
       "7           0.725352         0.766837        0.027724                1  \n",
       "8           0.725352         0.766837        0.027724                1  \n",
       "9           0.725352         0.766837        0.027724                1  "
      ]
     },
     "execution_count": 6,
     "metadata": {},
     "output_type": "execute_result"
    }
   ],
   "source": [
    "power_range = np.arange(-5,5)\n",
    "tuned_parameters = [{\"logisticregression__C\": np.power(10.0, power_range)}]\n",
    "\n",
    "clf = GridSearchCV(model1, tuned_parameters)\n",
    "clf.fit(X, y)\n",
    "\n",
    "results = pd.DataFrame(clf.cv_results_)\n",
    "\n",
    "print(\"Best parameters:\")\n",
    "print()\n",
    "print(clf.best_params_)\n",
    "print()\n",
    "\n",
    "results"
   ]
  },
  {
   "cell_type": "markdown",
   "metadata": {},
   "source": [
    "Plot the mean test scores against the log of the `C` value."
   ]
  },
  {
   "cell_type": "code",
   "execution_count": 7,
   "metadata": {},
   "outputs": [
    {
     "data": {
      "image/png": "[encoded data removed]",
      "text/plain": [
       "<Figure size 432x288 with 1 Axes>"
      ]
     },
     "metadata": {
      "needs_background": "light"
     },
     "output_type": "display_data"
    }
   ],
   "source": [
    "fig, ax = plt.subplots()\n",
    "ax.plot(power_range, results[\"mean_test_score\"])\n",
    "ax.set_xlabel(\"log(C)\")\n",
    "ax.set_ylabel(\"score\")\n",
    "plt.show()"
   ]
  },
  {
   "cell_type": "markdown",
   "metadata": {},
   "source": [
    "Set the `C` parameter which gives the best score."
   ]
  },
  {
   "cell_type": "code",
   "execution_count": 8,
   "metadata": {},
   "outputs": [
    {
     "data": {
      "text/plain": [
       "Pipeline(steps=[('standardscaler', StandardScaler()),\n",
       "                ('logisticregression',\n",
       "                 LogisticRegression(C=0.1, solver='liblinear'))])"
      ]
     },
     "execution_count": 8,
     "metadata": {},
     "output_type": "execute_result"
    }
   ],
   "source": [
    "model1.set_params(**clf.best_params_)"
   ]
  },
  {
   "cell_type": "markdown",
   "metadata": {},
   "source": [
    "Train the model on the training data and give the final training and evaluation scores."
   ]
  },
  {
   "cell_type": "code",
   "execution_count": 9,
   "metadata": {},
   "outputs": [
    {
     "name": "stdout",
     "output_type": "stream",
     "text": [
      "Training score: 78.370787%\n",
      "Evaluation score: 79.888268%\n"
     ]
    }
   ],
   "source": [
    "model1.fit(X, y)\n",
    "\n",
    "X_eval = dh1.eval[features1]\n",
    "y_eval = dh1.eval[\"Survived\"]\n",
    "\n",
    "score_train = model1.score(X, y)\n",
    "score_eval = model1.score(X_eval, y_eval)\n",
    "\n",
    "print(f\"Training score: {score_train:%}\")\n",
    "print(f\"Evaluation score: {score_eval:%}\")"
   ]
  },
  {
   "cell_type": "markdown",
   "metadata": {},
   "source": [
    "## Missing age values"
   ]
  },
  {
   "cell_type": "markdown",
   "metadata": {},
   "source": [
    "Impute the missing values in the 'Age' column using k-nearest neighbours."
   ]
  },
  {
   "cell_type": "code",
   "execution_count": 10,
   "metadata": {},
   "outputs": [],
   "source": [
    "columns = [\"Pclass_1\", \"Pclass_2\", \"Pclass_3\", \"IsFemale\", \"Age\", \"SibSp\", \"Parch\", \"Fare\"]\n",
    "dh2 = dh1.impute_values(columns, strategy=\"knn\")"
   ]
  },
  {
   "cell_type": "markdown",
   "metadata": {},
   "source": [
    "## Including age"
   ]
  },
  {
   "cell_type": "markdown",
   "metadata": {},
   "source": [
    "Let's get an idea of how survival depends age. First for all data at once."
   ]
  },
  {
   "cell_type": "code",
   "execution_count": 11,
   "metadata": {},
   "outputs": [
    {
     "data": {
      "image/png": "[encoded data removed]",
      "text/plain": [
       "<Figure size 432x288 with 1 Axes>"
      ]
     },
     "metadata": {
      "needs_background": "light"
     },
     "output_type": "display_data"
    }
   ],
   "source": [
    "num_age_groups = 10\n",
    "age_min = dh.train[\"Age\"].min()\n",
    "age_max = dh.train[\"Age\"].max()\n",
    "age_boundaries = np.linspace(age_min, age_max, num_age_groups)\n",
    "\n",
    "binned = pd.cut(dh.train[\"Age\"], age_boundaries)\n",
    "surv_by_age = dh.train.groupby(binned)[\"Survived\"].mean()\n",
    "\n",
    "fig, ax = plt.subplots()\n",
    "ax.plot(age_boundaries[1:], surv_by_age)\n",
    "ax.set_xlabel(\"Age\")\n",
    "ax.set_ylabel(\"Survived\")\n",
    "plt.show()"
   ]
  },
  {
   "cell_type": "markdown",
   "metadata": {},
   "source": [
    "Now let's break it down by age and class."
   ]
  },
  {
   "cell_type": "code",
   "execution_count": 12,
   "metadata": {},
   "outputs": [
    {
     "data": {
      "image/png": "[encoded data removed]",
      "text/plain": [
       "<Figure size 1080x720 with 6 Axes>"
      ]
     },
     "metadata": {
      "needs_background": "light"
     },
     "output_type": "display_data"
    }
   ],
   "source": [
    "fig, axs = plt.subplots(2, 3, figsize=(15,10))\n",
    "\n",
    "for i, sex in enumerate([\"female\", \"male\"]):\n",
    "    for j, pclass in enumerate([1, 2, 3]):\n",
    "        ax = axs[i, j]\n",
    "        data = dh.train.query(f\"Sex == {sex!r} and Pclass == {pclass!r}\")\n",
    "        binned = pd.cut(data[\"Age\"], age_boundaries)\n",
    "        surv_by_age = data.groupby(binned)[\"Survived\"].mean()\n",
    "\n",
    "        ax.plot(age_boundaries[1:], surv_by_age)\n",
    "        ax.set_xlabel(\"Age\")\n",
    "        ax.set_ylabel(\"Survived\")\n",
    "        ax.set_title(f\"{sex.capitalize()}, Class {pclass}\")\n",
    "\n",
    "plt.show()"
   ]
  },
  {
   "cell_type": "markdown",
   "metadata": {},
   "source": [
    "Let's expand age quadratically."
   ]
  },
  {
   "cell_type": "code",
   "execution_count": 15,
   "metadata": {},
   "outputs": [
    {
     "data": {
      "text/html": [
       "<div>\n",
       "<style scoped>\n",
       "    .dataframe tbody tr th:only-of-type {\n",
       "        vertical-align: middle;\n",
       "    }\n",
       "\n",
       "    .dataframe tbody tr th {\n",
       "        vertical-align: top;\n",
       "    }\n",
       "\n",
       "    .dataframe thead th {\n",
       "        text-align: right;\n",
       "    }\n",
       "</style>\n",
       "<table border=\"1\" class=\"dataframe\">\n",
       "  <thead>\n",
       "    <tr style=\"text-align: right;\">\n",
       "      <th></th>\n",
       "      <th>PassengerId</th>\n",
       "      <th>Survived</th>\n",
       "      <th>Name</th>\n",
       "      <th>IsFemale</th>\n",
       "      <th>SibSp</th>\n",
       "      <th>Parch</th>\n",
       "      <th>Ticket</th>\n",
       "      <th>Fare</th>\n",
       "      <th>Cabin</th>\n",
       "      <th>Embarked</th>\n",
       "      <th>Pclass_1</th>\n",
       "      <th>Pclass_2</th>\n",
       "      <th>Pclass_3</th>\n",
       "      <th>Age</th>\n",
       "      <th>Age^2</th>\n",
       "    </tr>\n",
       "  </thead>\n",
       "  <tbody>\n",
       "    <tr>\n",
       "      <th>763</th>\n",
       "      <td>764</td>\n",
       "      <td>1</td>\n",
       "      <td>Carter, Mrs. William Ernest (Lucile Polk)</td>\n",
       "      <td>1.0</td>\n",
       "      <td>1.0</td>\n",
       "      <td>2.0</td>\n",
       "      <td>113760</td>\n",
       "      <td>120.000</td>\n",
       "      <td>B96 B98</td>\n",
       "      <td>S</td>\n",
       "      <td>1.0</td>\n",
       "      <td>0.0</td>\n",
       "      <td>0.0</td>\n",
       "      <td>36.0</td>\n",
       "      <td>1296.0</td>\n",
       "    </tr>\n",
       "    <tr>\n",
       "      <th>632</th>\n",
       "      <td>633</td>\n",
       "      <td>1</td>\n",
       "      <td>Stahelin-Maeglin, Dr. Max</td>\n",
       "      <td>0.0</td>\n",
       "      <td>0.0</td>\n",
       "      <td>0.0</td>\n",
       "      <td>13214</td>\n",
       "      <td>30.500</td>\n",
       "      <td>B50</td>\n",
       "      <td>C</td>\n",
       "      <td>1.0</td>\n",
       "      <td>0.0</td>\n",
       "      <td>0.0</td>\n",
       "      <td>32.0</td>\n",
       "      <td>1024.0</td>\n",
       "    </tr>\n",
       "    <tr>\n",
       "      <th>237</th>\n",
       "      <td>238</td>\n",
       "      <td>1</td>\n",
       "      <td>Collyer, Miss. Marjorie \"Lottie\"</td>\n",
       "      <td>1.0</td>\n",
       "      <td>0.0</td>\n",
       "      <td>2.0</td>\n",
       "      <td>C.A. 31921</td>\n",
       "      <td>26.250</td>\n",
       "      <td>NaN</td>\n",
       "      <td>S</td>\n",
       "      <td>0.0</td>\n",
       "      <td>1.0</td>\n",
       "      <td>0.0</td>\n",
       "      <td>8.0</td>\n",
       "      <td>64.0</td>\n",
       "    </tr>\n",
       "    <tr>\n",
       "      <th>491</th>\n",
       "      <td>492</td>\n",
       "      <td>0</td>\n",
       "      <td>Windelov, Mr. Einar</td>\n",
       "      <td>0.0</td>\n",
       "      <td>0.0</td>\n",
       "      <td>0.0</td>\n",
       "      <td>SOTON/OQ 3101317</td>\n",
       "      <td>7.250</td>\n",
       "      <td>NaN</td>\n",
       "      <td>S</td>\n",
       "      <td>0.0</td>\n",
       "      <td>0.0</td>\n",
       "      <td>1.0</td>\n",
       "      <td>21.0</td>\n",
       "      <td>441.0</td>\n",
       "    </tr>\n",
       "    <tr>\n",
       "      <th>590</th>\n",
       "      <td>591</td>\n",
       "      <td>0</td>\n",
       "      <td>Rintamaki, Mr. Matti</td>\n",
       "      <td>0.0</td>\n",
       "      <td>0.0</td>\n",
       "      <td>0.0</td>\n",
       "      <td>STON/O 2. 3101273</td>\n",
       "      <td>7.125</td>\n",
       "      <td>NaN</td>\n",
       "      <td>S</td>\n",
       "      <td>0.0</td>\n",
       "      <td>0.0</td>\n",
       "      <td>1.0</td>\n",
       "      <td>35.0</td>\n",
       "      <td>1225.0</td>\n",
       "    </tr>\n",
       "  </tbody>\n",
       "</table>\n",
       "</div>"
      ],
      "text/plain": [
       "     PassengerId  Survived                                       Name  \\\n",
       "763          764         1  Carter, Mrs. William Ernest (Lucile Polk)   \n",
       "632          633         1                  Stahelin-Maeglin, Dr. Max   \n",
       "237          238         1           Collyer, Miss. Marjorie \"Lottie\"   \n",
       "491          492         0                        Windelov, Mr. Einar   \n",
       "590          591         0                       Rintamaki, Mr. Matti   \n",
       "\n",
       "     IsFemale  SibSp  Parch             Ticket     Fare    Cabin Embarked  \\\n",
       "763       1.0    1.0    2.0             113760  120.000  B96 B98        S   \n",
       "632       0.0    0.0    0.0              13214   30.500      B50        C   \n",
       "237       1.0    0.0    2.0         C.A. 31921   26.250      NaN        S   \n",
       "491       0.0    0.0    0.0   SOTON/OQ 3101317    7.250      NaN        S   \n",
       "590       0.0    0.0    0.0  STON/O 2. 3101273    7.125      NaN        S   \n",
       "\n",
       "     Pclass_1  Pclass_2  Pclass_3   Age   Age^2  \n",
       "763       1.0       0.0       0.0  36.0  1296.0  \n",
       "632       1.0       0.0       0.0  32.0  1024.0  \n",
       "237       0.0       1.0       0.0   8.0    64.0  \n",
       "491       0.0       0.0       1.0  21.0   441.0  \n",
       "590       0.0       0.0       1.0  35.0  1225.0  "
      ]
     },
     "execution_count": 15,
     "metadata": {},
     "output_type": "execute_result"
    }
   ],
   "source": [
    "dh2 = dh2.expand_polyonimially([\"Age\"], 2)\n",
    "dh2.train.head()"
   ]
  },
  {
   "cell_type": "markdown",
   "metadata": {},
   "source": [
    "We'll train a logistic regressor on gender, socio-economic status and age."
   ]
  },
  {
   "cell_type": "code",
   "execution_count": 30,
   "metadata": {},
   "outputs": [
    {
     "name": "stdout",
     "output_type": "stream",
     "text": [
      "Pipeline(steps=[('standardscaler', StandardScaler()),\n",
      "                ('logisticregression', LogisticRegression(solver='liblinear'))])\n"
     ]
    }
   ],
   "source": [
    "features2 = [\"IsFemale\", \"Pclass_1\", \"Pclass_2\", \"Pclass_3\", \"Age\", \"Age^2\"]\n",
    "X = dh2.train[features2]\n",
    "y = dh2.train[\"Survived\"]\n",
    "model2 = make_pipeline(StandardScaler(), \n",
    "                       LogisticRegression(solver=\"liblinear\"))\n",
    "print(model2)"
   ]
  },
  {
   "cell_type": "markdown",
   "metadata": {},
   "source": [
    "Use cross validation to pick the best value for `C`."
   ]
  },
  {
   "cell_type": "code",
   "execution_count": 31,
   "metadata": {},
   "outputs": [
    {
     "name": "stdout",
     "output_type": "stream",
     "text": [
      "Best parameters:\n",
      "\n",
      "{'logisticregression__C': 10.0}\n",
      "\n"
     ]
    },
    {
     "data": {
      "image/png": "[encoded data removed]",
      "text/plain": [
       "<Figure size 432x288 with 1 Axes>"
      ]
     },
     "metadata": {
      "needs_background": "light"
     },
     "output_type": "display_data"
    }
   ],
   "source": [
    "power_range = np.arange(-5,5)\n",
    "tuned_parameters = [{\"logisticregression__C\": np.power(10.0, power_range)}]\n",
    "\n",
    "clf = GridSearchCV(model2, tuned_parameters)\n",
    "clf.fit(X, y)\n",
    "\n",
    "results = pd.DataFrame(clf.cv_results_)\n",
    "\n",
    "print(\"Best parameters:\")\n",
    "print()\n",
    "print(clf.best_params_)\n",
    "print()\n",
    "\n",
    "fig, ax = plt.subplots()\n",
    "ax.plot(power_range, results[\"mean_test_score\"])\n",
    "ax.set_xlabel(\"log(C)\")\n",
    "ax.set_ylabel(\"score\")\n",
    "plt.show()"
   ]
  },
  {
   "cell_type": "markdown",
   "metadata": {},
   "source": [
    "Now train the model."
   ]
  },
  {
   "cell_type": "code",
   "execution_count": 32,
   "metadata": {},
   "outputs": [
    {
     "name": "stdout",
     "output_type": "stream",
     "text": [
      "Training score: 80.477528%\n",
      "Evaluation score: 79.888268%\n"
     ]
    }
   ],
   "source": [
    "model2.set_params(**clf.best_params_)\n",
    "\n",
    "model2.fit(X, y)\n",
    "\n",
    "X_eval = dh2.eval[features2]\n",
    "y_eval = dh2.eval[\"Survived\"]\n",
    "\n",
    "score_train = model2.score(X, y)\n",
    "score_eval = model2.score(X_eval, y_eval)\n",
    "\n",
    "print(f\"Training score: {score_train:%}\")\n",
    "print(f\"Evaluation score: {score_eval:%}\")"
   ]
  },
  {
   "cell_type": "markdown",
   "metadata": {},
   "source": [
    "Not much better. Let's see how the weights of the two models compare."
   ]
  },
  {
   "cell_type": "code",
   "execution_count": 35,
   "metadata": {},
   "outputs": [
    {
     "data": {
      "text/html": [
       "<div>\n",
       "<style scoped>\n",
       "    .dataframe tbody tr th:only-of-type {\n",
       "        vertical-align: middle;\n",
       "    }\n",
       "\n",
       "    .dataframe tbody tr th {\n",
       "        vertical-align: top;\n",
       "    }\n",
       "\n",
       "    .dataframe thead th {\n",
       "        text-align: right;\n",
       "    }\n",
       "</style>\n",
       "<table border=\"1\" class=\"dataframe\">\n",
       "  <thead>\n",
       "    <tr style=\"text-align: right;\">\n",
       "      <th></th>\n",
       "      <th>IsFemale</th>\n",
       "      <th>Pclass_1</th>\n",
       "      <th>Pclass_2</th>\n",
       "      <th>Pclass_3</th>\n",
       "    </tr>\n",
       "  </thead>\n",
       "  <tbody>\n",
       "    <tr>\n",
       "      <th>0</th>\n",
       "      <td>1.172216</td>\n",
       "      <td>0.444872</td>\n",
       "      <td>0.053441</td>\n",
       "      <td>-0.423835</td>\n",
       "    </tr>\n",
       "  </tbody>\n",
       "</table>\n",
       "</div>"
      ],
      "text/plain": [
       "   IsFemale  Pclass_1  Pclass_2  Pclass_3\n",
       "0  1.172216  0.444872  0.053441 -0.423835"
      ]
     },
     "execution_count": 35,
     "metadata": {},
     "output_type": "execute_result"
    }
   ],
   "source": [
    "pd.DataFrame(model1[\"logisticregression\"].coef_, columns=features1)"
   ]
  },
  {
   "cell_type": "code",
   "execution_count": 36,
   "metadata": {},
   "outputs": [
    {
     "data": {
      "text/html": [
       "<div>\n",
       "<style scoped>\n",
       "    .dataframe tbody tr th:only-of-type {\n",
       "        vertical-align: middle;\n",
       "    }\n",
       "\n",
       "    .dataframe tbody tr th {\n",
       "        vertical-align: top;\n",
       "    }\n",
       "\n",
       "    .dataframe thead th {\n",
       "        text-align: right;\n",
       "    }\n",
       "</style>\n",
       "<table border=\"1\" class=\"dataframe\">\n",
       "  <thead>\n",
       "    <tr style=\"text-align: right;\">\n",
       "      <th></th>\n",
       "      <th>IsFemale</th>\n",
       "      <th>Pclass_1</th>\n",
       "      <th>Pclass_2</th>\n",
       "      <th>Pclass_3</th>\n",
       "      <th>Age</th>\n",
       "      <th>Age^2</th>\n",
       "    </tr>\n",
       "  </thead>\n",
       "  <tbody>\n",
       "    <tr>\n",
       "      <th>0</th>\n",
       "      <td>1.277208</td>\n",
       "      <td>0.611767</td>\n",
       "      <td>0.053587</td>\n",
       "      <td>-0.566583</td>\n",
       "      <td>-0.948494</td>\n",
       "      <td>0.504407</td>\n",
       "    </tr>\n",
       "  </tbody>\n",
       "</table>\n",
       "</div>"
      ],
      "text/plain": [
       "   IsFemale  Pclass_1  Pclass_2  Pclass_3       Age     Age^2\n",
       "0  1.277208  0.611767  0.053587 -0.566583 -0.948494  0.504407"
      ]
     },
     "execution_count": 36,
     "metadata": {},
     "output_type": "execute_result"
    }
   ],
   "source": [
    "pd.DataFrame(model2[\"logisticregression\"].coef_, columns=features2)"
   ]
  },
  {
   "cell_type": "markdown",
   "metadata": {},
   "source": [
    "It seems that it is putting a fair bit of weight on the age columns, but that this isn't making much difference."
   ]
  },
  {
   "cell_type": "markdown",
   "metadata": {},
   "source": [
    "## Including Fare"
   ]
  },
  {
   "cell_type": "markdown",
   "metadata": {},
   "source": [
    "Let's try including fare too. First let's check if fare depends on the port of embarking."
   ]
  },
  {
   "cell_type": "code",
   "execution_count": 57,
   "metadata": {},
   "outputs": [
    {
     "data": {
      "image/png": "[encoded data removed]",
      "text/plain": [
       "<Figure size 432x288 with 1 Axes>"
      ]
     },
     "metadata": {
      "needs_background": "light"
     },
     "output_type": "display_data"
    }
   ],
   "source": [
    "dh.full_train[\"Embarked\"].value_counts(dropna=False)\n",
    "\n",
    "num_fare_groups = 50\n",
    "fare_min = dh.train[\"Fare\"].min()\n",
    "fare_max = dh.train[\"Fare\"].max()\n",
    "fare_boundaries = np.linspace(fare_min, fare_max, num_fare_groups)\n",
    "\n",
    "embark_ports = \"SCQ\"\n",
    "colours = \"bgr\"\n",
    "\n",
    "fig, ax = plt.subplots()\n",
    "\n",
    "for port, col in zip(embark_ports, colours):\n",
    "    with_port = dh.train.query(f\"Embarked=={port!r}\")\n",
    "    binned = pd.cut(with_port[\"Fare\"], fare_boundaries)\n",
    "    pass_by_fare = with_port.groupby(binned)[\"PassengerId\"].count()\n",
    "    ax.plot(fare_boundaries[1:], pass_by_fare, col, label=port)\n",
    "\n",
    "ax.set_xlabel(\"Fare\")\n",
    "ax.set_ylabel(\"Passengers\")\n",
    "ax.legend()\n",
    "plt.show()"
   ]
  },
  {
   "cell_type": "markdown",
   "metadata": {},
   "source": [
    "Indeed the port of depart does affect things."
   ]
  }
 ],
 "metadata": {
  "interpreter": {
   "hash": "767d51c1340bd893661ea55ea3124f6de3c7a262a8b4abca0554b478b1e2ff90"
  },
  "kernelspec": {
   "display_name": "Python 3.9.2 64-bit",
   "language": "python",
   "name": "python3"
  },
  "language_info": {
   "codemirror_mode": {
    "name": "ipython",
    "version": 3
   },
   "file_extension": ".py",
   "mimetype": "text/x-python",
   "name": "python",
   "nbconvert_exporter": "python",
   "pygments_lexer": "ipython3",
   "version": "3.9.2"
  },
  "orig_nbformat": 4
 },
 "nbformat": 4,
 "nbformat_minor": 2
}
